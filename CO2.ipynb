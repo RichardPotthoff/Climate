{
 "cells": [
  {
   "cell_type": "markdown",
   "id": "de5e6988-4570-4994-bcd1-9fb61ce56803",
   "metadata": {},
   "source": [
    "[![Open In Colab](https://colab.research.google.com/assets/colab-badge.svg)](https://colab.research.google.com/github/RichardPotthoff/Climate/blob/main/CO2.ipynb)"
   ]
  },
  {
   "cell_type": "code",
   "execution_count": 1,
   "id": "c4869ee2-74b6-48f1-aa82-70d0db6a50a7",
   "metadata": {},
   "outputs": [],
   "source": [
    "import os\n",
    "if not os.path.exists('co2_mlo_surface-insitu_1_ccgg_DailyData.zip'):\n",
    "  !wget https://raw.githubusercontent.com/RichardPotthoff/Climate/main/'co2_mlo_surface-insitu_1_ccgg_DailyData.zip'"
   ]
  },
  {
   "cell_type": "code",
   "execution_count": null,
   "id": "31f3e6ec-604a-4b43-a9d2-b9b6f19a6300",
   "metadata": {},
   "outputs": [],
   "source": [
    "from zipfile import ZipFile\n",
    "import numpy as np\n",
    "from matplotlib import pyplot as plt\n",
    "import io\n",
    "import ntpath\n",
    "from contextlib import ExitStack\n",
    "\n",
    "def read_data(filename='co2_mlo_surface-insitu_1_ccgg_DailyData.zip',fields=['time_decimal','value']):\n",
    "  fn,ext=ntpath.splitext(filename)\n",
    "  with ExitStack() as es:\n",
    "    if ext.upper()=='.ZIP': \n",
    "      fz=es.enter_context(ZipFile(filename))\n",
    "#      print(fz.namelist()) \n",
    "#      fz.printdir()\n",
    "      fb=es.enter_context(fz.open(fz.namelist()[0]))# assumes that there is only one file\n",
    "      f=es.enter_context(io.TextIOWrapper(fb,encoding='utf-8'))\n",
    "    else:\n",
    "      f=es.enter_context(open(filename,'r'))\n",
    "    for line in f:\n",
    "      if line[0]=='#':\n",
    "        continue\n",
    "      else:\n",
    "        header=line\n",
    "        break\n",
    "    field_dict={field:i for i,field in enumerate(header.split())}\n",
    "    i_fields=[field_dict.get(field,None) for field in fields]\n",
    "    i=0\n",
    "    i_max=-1\n",
    "    for line in f:\n",
    "        if line[0]=='#':\n",
    "            continue\n",
    "        values=line.split()\n",
    "        field_values=[values[i] for i in i_fields]\n",
    "        if field_values[1][0]!='-': \n",
    "            yield field_values\n",
    "            i+=1\n",
    "            if (i>i_max)and (i_max>=0):\n",
    "                break"
   ]
  },
  {
   "cell_type": "code",
   "execution_count": null,
   "id": "81e3db96-7b3b-4796-b663-0673a6c663c4",
   "metadata": {},
   "outputs": [],
   "source": [
    "t,x_CO2=np.array(list(read_data(filename='co2_mlo_surface-insitu_1_ccgg_DailyData.zip',fields=['time_decimal','value'])),dtype=float).transpose()\n",
    "plt.plot(t,x_CO2) \n",
    "deg=4\n",
    "p=np.polyfit(t,x_CO2,deg)[::-1]#reverse the order of coefficients so that y(x)=sum(p_i*x^i)\n",
    "plt.plot(t,sum(pi*t**i for i,pi in enumerate(p)));"
   ]
  },
  {
   "cell_type": "code",
   "execution_count": null,
   "id": "cd77b4a3-958e-4c31-8cef-1559b8e9bb9d",
   "metadata": {},
   "outputs": [],
   "source": [
    "plt.plot(t,x_CO2-sum(pi*t**i for i,pi in enumerate(p)))   \n",
    "plt.ylim(-60,60);"
   ]
  },
  {
   "cell_type": "code",
   "execution_count": null,
   "id": "73fff4c2-f4b5-47f1-8133-97f65190c7df",
   "metadata": {},
   "outputs": [],
   "source": [
    "plt.plot(t%1*12,x_CO2-sum(pi*t**i for i,pi in enumerate(p)),'.')  \n",
    "import scipy as sp\n",
    "import cmath\n",
    "n=32\n",
    "csr=sp.sparse.csc_array((x_CO2-sum(pi*t**i for i,pi in enumerate(p)),(np.zeros(t.shape,dtype=int),np.array((((t+0.5/n)%1)*n)//1,dtype=int),)))\n",
    "ncsr=sp.sparse.csc_array((np.ones(x_CO2.shape),(np.zeros(t.shape,dtype=int),np.array((((t+0.5/n)%1)*n)//1,dtype=int),)))\n",
    "csr.sum_duplicates()\n",
    "ncsr.sum_duplicates()\n",
    "avg_CO2=csr.toarray()[0]/ncsr.toarray()[0]\n",
    "plt.plot([(i)/n*12 for i in range(n+1)],avg_CO2[[i%n for i in range(n+1)]],'k+', ms=10,zorder=13)  \n",
    "#plt.plot((0,12),(0,0),'k',zorder=11)\n",
    "plt.grid()\n",
    "f=np.fft.rfft(avg_CO2)\n",
    "ff=f.copy()\n",
    "ff[5:]=0.0\n",
    "avg_CO2_filtered=np.fft.irfft(ff)\n",
    "plt.plot([(i)/n*12 for i in range(n+1)],avg_CO2_filtered[[i%n for i in range(n+1)]],'-',zorder=12)  \n",
    "t1=np.linspace(0,1.0,101)\n",
    "plt.plot((t1)*12,sum(abs(f[i])*np.cos(2*np.pi*i*(t1)+cmath.phase(f[i]))for i in range(3+1))/n*2,'r-',lw=5,zorder=11);"
   ]
  },
  {
   "cell_type": "code",
   "execution_count": null,
   "id": "37887625-016d-48b3-9446-c120fe3a08ef",
   "metadata": {},
   "outputs": [],
   "source": [
    "import cmath\n",
    "abs(f[1])\n",
    "cmath.phase(f[1])\n",
    "t1=np.linspace(0.0,12.0,101) \n",
    "for n1 in range(6):\n",
    "#  plt.plot(t1,abs(f[n1])*np.cos(2*np.pi*n1*t1/12+cmath.phase(f[n1]))/n*2)\n",
    "#  plt.plot(t1,sum((abs(f[j])*np.cos(2*np.pi*j*t1/12+cmath.phase(f[j])) for j in range(n1+1)))/n*2,label=f'{n1}')\n",
    "  plt.plot(t1,sum(f[j].real*np.cos(2*np.pi*j*t1/12)-f[j].imag*np.sin(2*np.pi*j*t1/12) for j in range(n1+1))/n*2,label=f'{n1}')\n",
    "plt.legend();"
   ]
  },
  {
   "cell_type": "code",
   "execution_count": null,
   "id": "a3d7cb41-3b55-4a22-97d1-ea59a1d2b49b",
   "metadata": {},
   "outputs": [],
   "source": []
  }
 ],
 "metadata": {
  "kernelspec": {
   "display_name": "Python 3 (ipykernel)",
   "language": "python",
   "name": "python3"
  },
  "language_info": {
   "codemirror_mode": {
    "name": "ipython",
    "version": 3
   },
   "file_extension": ".py",
   "mimetype": "text/x-python",
   "name": "python",
   "nbconvert_exporter": "python",
   "pygments_lexer": "ipython3",
   "version": "3.11.0"
  }
 },
 "nbformat": 4,
 "nbformat_minor": 5
}
